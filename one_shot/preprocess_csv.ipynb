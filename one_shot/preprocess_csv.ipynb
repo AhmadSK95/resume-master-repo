{
 "cells": [
  {
   "cell_type": "code",
   "execution_count": 1,
   "id": "983a09cc",
   "metadata": {},
   "outputs": [],
   "source": [
    "import pandas as pd"
   ]
  },
  {
   "cell_type": "code",
   "execution_count": 2,
   "id": "17106288",
   "metadata": {},
   "outputs": [],
   "source": [
    "raw_data = pd.read_csv('UpdatedResumeDataSet.csv')"
   ]
  },
  {
   "cell_type": "code",
   "execution_count": 3,
   "id": "8454e1a8",
   "metadata": {},
   "outputs": [
    {
     "name": "stdout",
     "output_type": "stream",
     "text": [
      "<class 'pandas.core.frame.DataFrame'>\n",
      "RangeIndex: 962 entries, 0 to 961\n",
      "Data columns (total 2 columns):\n",
      " #   Column    Non-Null Count  Dtype \n",
      "---  ------    --------------  ----- \n",
      " 0   Category  962 non-null    object\n",
      " 1   Resume    962 non-null    object\n",
      "dtypes: object(2)\n",
      "memory usage: 15.2+ KB\n"
     ]
    }
   ],
   "source": [
    "raw_data.info()"
   ]
  },
  {
   "cell_type": "code",
   "execution_count": 4,
   "id": "a4145a86",
   "metadata": {},
   "outputs": [
    {
     "data": {
      "text/html": [
       "<div>\n",
       "<style scoped>\n",
       "    .dataframe tbody tr th:only-of-type {\n",
       "        vertical-align: middle;\n",
       "    }\n",
       "\n",
       "    .dataframe tbody tr th {\n",
       "        vertical-align: top;\n",
       "    }\n",
       "\n",
       "    .dataframe thead th {\n",
       "        text-align: right;\n",
       "    }\n",
       "</style>\n",
       "<table border=\"1\" class=\"dataframe\">\n",
       "  <thead>\n",
       "    <tr style=\"text-align: right;\">\n",
       "      <th></th>\n",
       "      <th>Category</th>\n",
       "      <th>Resume</th>\n",
       "    </tr>\n",
       "  </thead>\n",
       "  <tbody>\n",
       "    <tr>\n",
       "      <th>0</th>\n",
       "      <td>Data Science</td>\n",
       "      <td>Skills * Programming Languages: Python (pandas...</td>\n",
       "    </tr>\n",
       "    <tr>\n",
       "      <th>1</th>\n",
       "      <td>Data Science</td>\n",
       "      <td>Education Details \\r\\nMay 2013 to May 2017 B.E...</td>\n",
       "    </tr>\n",
       "    <tr>\n",
       "      <th>2</th>\n",
       "      <td>Data Science</td>\n",
       "      <td>Areas of Interest Deep Learning, Control Syste...</td>\n",
       "    </tr>\n",
       "    <tr>\n",
       "      <th>3</th>\n",
       "      <td>Data Science</td>\n",
       "      <td>Skills â¢ R â¢ Python â¢ SAP HANA â¢ Table...</td>\n",
       "    </tr>\n",
       "    <tr>\n",
       "      <th>4</th>\n",
       "      <td>Data Science</td>\n",
       "      <td>Education Details \\r\\n MCA   YMCAUST,  Faridab...</td>\n",
       "    </tr>\n",
       "  </tbody>\n",
       "</table>\n",
       "</div>"
      ],
      "text/plain": [
       "       Category                                             Resume\n",
       "0  Data Science  Skills * Programming Languages: Python (pandas...\n",
       "1  Data Science  Education Details \\r\\nMay 2013 to May 2017 B.E...\n",
       "2  Data Science  Areas of Interest Deep Learning, Control Syste...\n",
       "3  Data Science  Skills â¢ R â¢ Python â¢ SAP HANA â¢ Table...\n",
       "4  Data Science  Education Details \\r\\n MCA   YMCAUST,  Faridab..."
      ]
     },
     "execution_count": 4,
     "metadata": {},
     "output_type": "execute_result"
    }
   ],
   "source": [
    "raw_data.head()"
   ]
  },
  {
   "cell_type": "code",
   "execution_count": 5,
   "id": "8469cf0c",
   "metadata": {},
   "outputs": [
    {
     "data": {
      "text/plain": [
       "['Skills * Programming Languages: Python (pandas, numpy, scipy, scikit-learn, matplotlib), Sql, Java, JavaScript/JQuery. * Machine learning: Regression, SVM, NaÃ¯ve Bayes, KNN, Random Forest, Decision Trees, Boosting techniques, Cluster Analysis, Word Embedding, Sentiment Analysis, Natural Language processing, Dimensionality reduction, Topic Modelling (LDA, NMF), PCA & Neural Nets. * Database Visualizations: Mysql, SqlServer, Cassandra, Hbase, ElasticSearch D3.js, DC.js, Plotly, kibana, matplotlib, ggplot, Tableau. * Others: Regular Expression, HTML, CSS, Angular 6, Logstash, Kafka, Python Flask, Git, Docker, computer vision - Open CV and understanding of Deep learning.Education Details \\r',\n",
       " '\\r',\n",
       " 'Data Science Assurance Associate \\r',\n",
       " '\\r',\n",
       " 'Data Science Assurance Associate - Ernst & Young LLP\\r',\n",
       " 'Skill Details \\r',\n",
       " 'JAVASCRIPT- Exprience - 24 months\\r',\n",
       " 'jQuery- Exprience - 24 months\\r',\n",
       " 'Python- Exprience - 24 monthsCompany Details \\r',\n",
       " 'company - Ernst & Young LLP\\r',\n",
       " 'description - Fraud Investigations and Dispute Services   Assurance\\r',\n",
       " 'TECHNOLOGY ASSISTED REVIEW\\r',\n",
       " 'TAR (Technology Assisted Review) assists in accelerating the review process and run analytics and generate reports.\\r',\n",
       " '* Core member of a team helped in developing automated review platform tool from scratch for assisting E discovery domain, this tool implements predictive coding and topic modelling by automating reviews, resulting in reduced labor costs and time spent during the lawyers review.\\r',\n",
       " '* Understand the end to end flow of the solution, doing research and development for classification models, predictive analysis and mining of the information present in text data. Worked on analyzing the outputs and precision monitoring for the entire tool.\\r',\n",
       " '* TAR assists in predictive coding, topic modelling from the evidence by following EY standards. Developed the classifier models in order to identify \"red flags\" and fraud-related issues.\\r',\n",
       " '\\r',\n",
       " 'Tools & Technologies: Python, scikit-learn, tfidf, word2vec, doc2vec, cosine similarity, NaÃ¯ve Bayes, LDA, NMF for topic modelling, Vader and text blob for sentiment analysis. Matplot lib, Tableau dashboard for reporting.\\r',\n",
       " '\\r',\n",
       " 'MULTIPLE DATA SCIENCE AND ANALYTIC PROJECTS (USA CLIENTS)\\r',\n",
       " 'TEXT ANALYTICS - MOTOR VEHICLE CUSTOMER REVIEW DATA * Received customer feedback survey data for past one year. Performed sentiment (Positive, Negative & Neutral) and time series analysis on customer comments across all 4 categories.\\r',\n",
       " '* Created heat map of terms by survey category based on frequency of words * Extracted Positive and Negative words across all the Survey categories and plotted Word cloud.\\r',\n",
       " '* Created customized tableau dashboards for effective reporting and visualizations.\\r',\n",
       " 'CHATBOT * Developed a user friendly chatbot for one of our Products which handle simple questions about hours of operation, reservation options and so on.\\r',\n",
       " '* This chat bot serves entire product related questions. Giving overview of tool via QA platform and also give recommendation responses so that user question to build chain of relevant answer.\\r',\n",
       " '* This too has intelligence to build the pipeline of questions as per user requirement and asks the relevant /recommended questions.\\r',\n",
       " '\\r',\n",
       " 'Tools & Technologies: Python, Natural language processing, NLTK, spacy, topic modelling, Sentiment analysis, Word Embedding, scikit-learn, JavaScript/JQuery, SqlServer\\r',\n",
       " '\\r',\n",
       " 'INFORMATION GOVERNANCE\\r',\n",
       " 'Organizations to make informed decisions about all of the information they store. The integrated Information Governance portfolio synthesizes intelligence across unstructured data sources and facilitates action to ensure organizations are best positioned to counter information risk.\\r',\n",
       " '* Scan data from multiple sources of formats and parse different file formats, extract Meta data information, push results for indexing elastic search and created customized, interactive dashboards using kibana.\\r',\n",
       " '* Preforming ROT Analysis on the data which give information of data which helps identify content that is either Redundant, Outdated, or Trivial.\\r',\n",
       " '* Preforming full-text search analysis on elastic search with predefined methods which can tag as (PII) personally identifiable information (social security numbers, addresses, names, etc.) which frequently targeted during cyber-attacks.\\r',\n",
       " 'Tools & Technologies: Python, Flask, Elastic Search, Kibana\\r',\n",
       " '\\r',\n",
       " 'FRAUD ANALYTIC PLATFORM\\r',\n",
       " 'Fraud Analytics and investigative platform to review all red flag cases.\\r',\n",
       " 'â\\x80¢ FAP is a Fraud Analytics and investigative platform with inbuilt case manager and suite of Analytics for various ERP systems.\\r',\n",
       " '* It can be used by clients to interrogate their Accounting systems for identifying the anomalies which can be indicators of fraud by running advanced analytics\\r',\n",
       " 'Tools & Technologies: HTML, JavaScript, SqlServer, JQuery, CSS, Bootstrap, Node.js, D3.js, DC.js']"
      ]
     },
     "execution_count": 5,
     "metadata": {},
     "output_type": "execute_result"
    }
   ],
   "source": [
    "raw_data['Resume'][0].split(\"\\n\")"
   ]
  },
  {
   "cell_type": "code",
   "execution_count": 6,
   "id": "a1301281",
   "metadata": {},
   "outputs": [
    {
     "data": {
      "text/plain": [
       "Category\n",
       "Java Developer               84\n",
       "Testing                      70\n",
       "DevOps Engineer              55\n",
       "Python Developer             48\n",
       "Web Designing                45\n",
       "HR                           44\n",
       "Hadoop                       42\n",
       "Sales                        40\n",
       "Data Science                 40\n",
       "Mechanical Engineer          40\n",
       "ETL Developer                40\n",
       "Blockchain                   40\n",
       "Operations Manager           40\n",
       "Arts                         36\n",
       "Database                     33\n",
       "Health and fitness           30\n",
       "PMO                          30\n",
       "Electrical Engineering       30\n",
       "Business Analyst             28\n",
       "DotNet Developer             28\n",
       "Automation Testing           26\n",
       "Network Security Engineer    25\n",
       "Civil Engineer               24\n",
       "SAP Developer                24\n",
       "Advocate                     20\n",
       "Name: count, dtype: int64"
      ]
     },
     "execution_count": 6,
     "metadata": {},
     "output_type": "execute_result"
    }
   ],
   "source": [
    "raw_data[\"Category\"].value_counts()"
   ]
  },
  {
   "cell_type": "code",
   "execution_count": 7,
   "id": "0d60fa02",
   "metadata": {},
   "outputs": [],
   "source": [
    "import requests\n",
    "import json"
   ]
  },
  {
   "cell_type": "code",
   "execution_count": 25,
   "id": "f57745cd",
   "metadata": {},
   "outputs": [],
   "source": [
    "def extract_resume_info_ollama(resume_text, model=\"mistral:7b\"):\n",
    "    prompt = f\"\"\"\n",
    "    Extract the following from the given resume:\n",
    "    1. Key skills (comma separated)\n",
    "    2. Years of working experience \n",
    "    3. Preferred location (city/state/country)\n",
    "    4. Summarize projects highlighing key problems solved and technologies used\n",
    "    5. Educational qualifications (highest degree and academic institution/college) if not mentioned, write Not Mentioned\n",
    "    6. Behavioral traits (comma separated) (if you can assess from the resume)\n",
    "    \n",
    "    Resume:\n",
    "    {resume_text}\n",
    "   \n",
    "    \"\"\"\n",
    "    response = requests.post(\n",
    "        \"http://localhost:11434/api/generate\",\n",
    "        json={\"model\": model, \"prompt\": prompt,\n",
    "              \"system\": \"You are an information extraction assistant. Only output the requested fields in the exact format. Do not add any introduction or explanation.\"},\n",
    "        stream=True,\n",
    "    )\n",
    "    full_response = \"\"\n",
    "    for line in response.iter_lines():\n",
    "        if line:\n",
    "            data = json.loads(line.decode('utf-8'))\n",
    "            if \"response\" in data:\n",
    "                full_response += data[\"response\"]\n",
    "    return full_response"
   ]
  },
  {
   "cell_type": "code",
   "execution_count": 26,
   "id": "bbf0f5c0",
   "metadata": {},
   "outputs": [
    {
     "name": "stdout",
     "output_type": "stream",
     "text": [
      " 1. Key skills: Python (pandas, numpy, scipy, scikit-learn, matplotlib), SQL, Java, JavaScript/JQuery, Machine learning (Regression, SVM, Naive Bayes, KNN, Random Forest, Decision Trees, Boosting techniques, Cluster Analysis, Word Embedding, Sentiment Analysis, Natural Language processing, Dimensionality reduction, Topic Modelling (LDA, NMF), PCA & Neural Nets), Database Visualizations (Mysql, SqlServer, Cassandra, Hbase, ElasticSearch D3.js, DC.js, Plotly, kibana, matplotlib, ggplot, Tableau), Others (Regular Expression, HTML, CSS, Angular 6, Logstash, Kafka, Python Flask, Git, Docker, computer vision - Open CV and understanding of Deep learning)\n",
      "2. Years of working experience: 24 months in JavaScript, jQuery, and Python\n",
      "3. Preferred location: Not mentioned\n",
      "4. Summarize projects highlighting key problems solved and technologies used:\n",
      "    - TAR (Technology Assisted Review): developed automated review platform tool for E discovery domain, reducing labor costs and time spent during lawyer reviews; used Python, scikit-learn, tfidf, word2vec, doc2vec, cosine similarity, Naive Bayes, LDA, NMF for topic modeling, Vader and text blob for sentiment analysis.\n",
      "    - Multiple Data Science and Analytic Projects (USA Clients): Text Analytics - Motor Vehicle Customer Review Data: performed sentiment analysis on customer comments across all 4 categories, created heat map of terms by survey category based on frequency of words, extracted Positive and Negative words across all the Survey categories and plotted Word cloud, created customized Tableau dashboards for effective reporting and visualizations. Chatbot: developed a user-friendly chatbot for one product handling simple questions about hours of operation, reservation options etc., used Python, Natural language processing, NLTK, spacy, topic modeling, Sentiment analysis, Word Embedding.\n",
      "    - Information Governance: Scanned data from multiple sources, parsed different file formats, extracted Meta data information, pushed results for indexing Elastic Search and created customized, interactive dashboards using Kibana. Performed ROT Analysis on the data which helps identify content that is either Redundant, Outdated, or Trivial. Performed full-text search analysis on Elastic Search with predefined methods which can tag as PII (Personally identifiable information).\n",
      "    - Fraud Analytic Platform: FAP is a Fraud Analytics and investigative platform with inbuilt case manager and suite of Analytics for various ERP systems, used to interrogate Accounting systems for identifying the anomalies which can be indicators of fraud by running advanced analytics.\n",
      "5. Educational qualifications: Not mentioned\n",
      "6. Behavioral traits (if you can assess from the resume): Problem-solving, Creativity, Analytical skills, Attention to detail, Teamwork, Adaptability, Innovation, and Technical proficiency\n"
     ]
    }
   ],
   "source": [
    "info = extract_resume_info_ollama(raw_data['Resume'][0])\n",
    "print(info)"
   ]
  },
  {
   "cell_type": "code",
   "execution_count": 24,
   "id": "0ce60dd0",
   "metadata": {},
   "outputs": [
    {
     "name": "stdout",
     "output_type": "stream",
     "text": [
      " 1. Key skills: Python (pandas, numpy, scipy, scikit-learn, matplotlib), SQL, Java, JavaScript/JQuery, Machine learning (Regression, SVM, Naive Bayes, KNN, Random Forest, Decision Trees, Boosting techniques, Cluster Analysis, Word Embedding, Sentiment Analysis, Natural Language processing, Dimensionality reduction, Topic Modelling (LDA, NMF), PCA & Neural Nets), Database Visualizations (Mysql, SqlServer, Cassandra, Hbase, ElasticSearch D3.js, DC.js, Plotly, kibana, matplotlib, ggplot, Tableau), Others (Regular Expression, HTML, CSS, Angular 6, Logstash, Kafka, Python Flask, Git, Docker, computer vision - Open CV and understanding of Deep learning)\n",
      "2. Years of working experience: 24 months for JavaScript, jQuery, and Python\n",
      "3. Preferred location (city/state/country): Not mentioned\n",
      "4. Summarize projects highlighting key problems solved and technologies used:\n",
      "   a) TAR (Technology Assisted Review): Developed an automated review platform tool to assist E-discovery domain. The tool implements predictive coding and topic modeling, resulting in reduced labor costs and time spent during the lawyers' review. Technologies used include Python, scikit-learn, tfidf, word2vec, doc2vec, cosine similarity, Naive Bayes, LDA, NMF for topic modeling, Vader and text blob for sentiment analysis, Matplot lib, Tableau dashboard for reporting.\n",
      "   b) Text Analytics - Motor Vehicle Customer Review Data: Performed sentiment and time series analysis on customer comments across all 4 categories. Technologies used include Python, Natural language processing, NLTK, spacy, topic modelling, Sentiment analysis, Word Embedding, scikit-learn, JavaScript/JQuery, SqlServer.\n",
      "   c) Information Governance: Scanned data from multiple sources and formats, extracted Meta data information, and created customized interactive dashboards using kibana. Performed ROT Analysis on the data to identify content that is either Redundant, Outdated, or Trivial. Technologies used include Python, Flask, Elastic Search, Kibana.\n",
      "   d) Fraud Analytic Platform: A Fraud Analytics and investigative platform with an inbuilt case manager and suite of Analytics for various ERP systems. The platform can be used by clients to interrogate their Accounting systems for identifying the anomalies which can be indicators of fraud by running advanced analytics. Technologies used include HTML, JavaScript, SqlServer, JQuery, CSS, Bootstrap, Node.js, D3.js, DC.js\n",
      "5. Educational qualifications: Not mentioned in the provided resume\n",
      "6. Behavioral traits (comma separated): Collaborative, innovative, analytical, detail-oriented, adaptable\n"
     ]
    }
   ],
   "source": [
    "\n",
    "# Example usage for the first resume\n",
    "info = extract_resume_info_ollama(raw_data['Resume'][0])\n",
    "print(info)"
   ]
  },
  {
   "cell_type": "code",
   "execution_count": 10,
   "id": "659b9a54",
   "metadata": {},
   "outputs": [],
   "source": [
    "import time"
   ]
  },
  {
   "cell_type": "code",
   "execution_count": 22,
   "id": "7369f18d",
   "metadata": {},
   "outputs": [
    {
     "name": "stdout",
     "output_type": "stream",
     "text": [
      "Skills * Programming Languages: Python (pandas, numpy, scipy, scikit-learn, matplotlib), Sql, Java, JavaScript/JQuery. * Machine learning: Regression, SVM, NaÃ¯ve Bayes, KNN, Random Forest, Decision Trees, Boosting techniques, Cluster Analysis, Word Embedding, Sentiment Analysis, Natural Language processing, Dimensionality reduction, Topic Modelling (LDA, NMF), PCA & Neural Nets. * Database Visualizations: Mysql, SqlServer, Cassandra, Hbase, ElasticSearch D3.js, DC.js, Plotly, kibana, matplotlib, ggplot, Tableau. * Others: Regular Expression, HTML, CSS, Angular 6, Logstash, Kafka, Python Flask, Git, Docker, computer vision - Open CV and understanding of Deep learning.Education Details \n",
      "\n",
      "Data Science Assurance Associate \n",
      "\n",
      "Data Science Assurance Associate - Ernst & Young LLP\n",
      "Skill Details \n",
      "JAVASCRIPT- Exprience - 24 months\n",
      "jQuery- Exprience - 24 months\n",
      "Python- Exprience - 24 monthsCompany Details \n",
      "company - Ernst & Young LLP\n",
      "description - Fraud Investigations and Dispute Services   Assurance\n",
      "TECHNOLOGY ASSISTED REVIEW\n",
      "TAR (Technology Assisted Review) assists in accelerating the review process and run analytics and generate reports.\n",
      "* Core member of a team helped in developing automated review platform tool from scratch for assisting E discovery domain, this tool implements predictive coding and topic modelling by automating reviews, resulting in reduced labor costs and time spent during the lawyers review.\n",
      "* Understand the end to end flow of the solution, doing research and development for classification models, predictive analysis and mining of the information present in text data. Worked on analyzing the outputs and precision monitoring for the entire tool.\n",
      "* TAR assists in predictive coding, topic modelling from the evidence by following EY standards. Developed the classifier models in order to identify \"red flags\" and fraud-related issues.\n",
      "\n",
      "Tools & Technologies: Python, scikit-learn, tfidf, word2vec, doc2vec, cosine similarity, NaÃ¯ve Bayes, LDA, NMF for topic modelling, Vader and text blob for sentiment analysis. Matplot lib, Tableau dashboard for reporting.\n",
      "\n",
      "MULTIPLE DATA SCIENCE AND ANALYTIC PROJECTS (USA CLIENTS)\n",
      "TEXT ANALYTICS - MOTOR VEHICLE CUSTOMER REVIEW DATA * Received customer feedback survey data for past one year. Performed sentiment (Positive, Negative & Neutral) and time series analysis on customer comments across all 4 categories.\n",
      "* Created heat map of terms by survey category based on frequency of words * Extracted Positive and Negative words across all the Survey categories and plotted Word cloud.\n",
      "* Created customized tableau dashboards for effective reporting and visualizations.\n",
      "CHATBOT * Developed a user friendly chatbot for one of our Products which handle simple questions about hours of operation, reservation options and so on.\n",
      "* This chat bot serves entire product related questions. Giving overview of tool via QA platform and also give recommendation responses so that user question to build chain of relevant answer.\n",
      "* This too has intelligence to build the pipeline of questions as per user requirement and asks the relevant /recommended questions.\n",
      "\n",
      "Tools & Technologies: Python, Natural language processing, NLTK, spacy, topic modelling, Sentiment analysis, Word Embedding, scikit-learn, JavaScript/JQuery, SqlServer\n",
      "\n",
      "INFORMATION GOVERNANCE\n",
      "Organizations to make informed decisions about all of the information they store. The integrated Information Governance portfolio synthesizes intelligence across unstructured data sources and facilitates action to ensure organizations are best positioned to counter information risk.\n",
      "* Scan data from multiple sources of formats and parse different file formats, extract Meta data information, push results for indexing elastic search and created customized, interactive dashboards using kibana.\n",
      "* Preforming ROT Analysis on the data which give information of data which helps identify content that is either Redundant, Outdated, or Trivial.\n",
      "* Preforming full-text search analysis on elastic search with predefined methods which can tag as (PII) personally identifiable information (social security numbers, addresses, names, etc.) which frequently targeted during cyber-attacks.\n",
      "Tools & Technologies: Python, Flask, Elastic Search, Kibana\n",
      "\n",
      "FRAUD ANALYTIC PLATFORM\n",
      "Fraud Analytics and investigative platform to review all red flag cases.\n",
      "â¢ FAP is a Fraud Analytics and investigative platform with inbuilt case manager and suite of Analytics for various ERP systems.\n",
      "* It can be used by clients to interrogate their Accounting systems for identifying the anomalies which can be indicators of fraud by running advanced analytics\n",
      "Tools & Technologies: HTML, JavaScript, SqlServer, JQuery, CSS, Bootstrap, Node.js, D3.js, DC.js\n"
     ]
    }
   ],
   "source": [
    "print(raw_data['Resume'][0])"
   ]
  },
  {
   "cell_type": "code",
   "execution_count": 27,
   "id": "4c13ab8a",
   "metadata": {},
   "outputs": [
    {
     "name": "stderr",
     "output_type": "stream",
     "text": [
      "\n",
      "KeyboardInterrupt\n",
      "\n"
     ]
    }
   ],
   "source": [
    "results = []\n",
    "for resume_text in raw_data['Resume'][:10]:\n",
    "    info = extract_resume_info_ollama(resume_text)\n",
    "    results.append(info)\n",
    "    time.sleep(1)  # Optional: avoid overloading Ollama API\n",
    "\n",
    "# raw_data['Extracted_Info'] = results\n",
    "\n",
    "# # Display the first few processed rows\n",
    "# print(raw_data[['Resume', 'Extracted_Info']].head())"
   ]
  },
  {
   "cell_type": "code",
   "execution_count": 28,
   "id": "c98febf1",
   "metadata": {},
   "outputs": [
    {
     "name": "stdout",
     "output_type": "stream",
     "text": [
      "[\" 1. Key skills: Python (pandas, numpy, scipy, scikit-learn, matplotlib), SQL, Java, JavaScript/JQuery, Machine learning (Regression, SVM, Naive Bayes, KNN, Random Forest, Decision Trees, Boosting techniques, Cluster Analysis, Word Embedding, Sentiment Analysis, Natural Language processing, Dimensionality reduction, Topic Modelling (LDA, NMF), PCA & Neural Nets), Database Visualizations (Mysql, SqlServer, Cassandra, Hbase, ElasticSearch D3.js, DC.js, Plotly, kibana, matplotlib, ggplot, Tableau), Others (Regular Expression, HTML, CSS, Angular 6, Logstash, Kafka, Python Flask, Git, Docker, computer vision - Open CV and understanding of Deep learning)\\n2. Years of working experience: 24 months in JavaScript, jQuery, Python\\n3. Preferred location (city/state/country): Not mentioned\\n4. Summarize projects highlighting key problems solved and technologies used:\\n   a. Technology Assisted Review (TAR): Developed automated review platform tool for assisting E discovery domain. Implemented predictive coding and topic modeling, reducing labor costs and time spent during lawyers' reviews. Technologies used: Python, scikit-learn, tfidf, word2vec, doc2vec, cosine similarity, Naive Bayes, LDA, NMF for topic modeling, Vader and text blob for sentiment analysis. Matplot lib, Tableau dashboard for reporting.\\n   b. Text Analytics - Motor Vehicle Customer Review Data: Performed sentiment and time series analysis on customer comments across all 4 categories. Created heat map of terms by survey category based on frequency of words, extracted Positive and Negative words across all the Survey categories and plotted Word cloud. Created customized tableau dashboards for effective reporting and visualizations. Technologies used: Python, Natural language processing, NLTK, spacy, topic modelling, Sentiment analysis, Word Embedding, scikit-learn, JavaScript/JQuery, SqlServer\\n   c. Information Governance: Scanned data from multiple sources of formats, extracted Meta data information, pushed results for indexing elastic search and created customized, interactive dashboards using kibana. Performed ROT Analysis on the data to identify redundant, outdated, or trivial content. Performed full-text search analysis on elastic search with predefined methods which can tag personally identifiable information (PII). Technologies used: Python, Flask, Elastic Search, Kibana\\n   d. Fraud Analytic Platform: FAP is a fraud analytics and investigative platform with inbuilt case manager and suite of Analytics for various ERP systems. It can be used by clients to interrogate their Accounting systems for identifying the anomalies which can be indicators of fraud by running advanced analytics. Technologies used: HTML, JavaScript, SqlServer, JQuery, CSS, Bootstrap, Node.js, D3.js, DC.js\\n5. Educational qualifications: Not mentioned\\n6. Behavioral traits (if you can assess from the resume): Results-driven, innovative, collaborative, analytical, detail-oriented\"]\n"
     ]
    }
   ],
   "source": [
    "print(results)"
   ]
  }
 ],
 "metadata": {
  "kernelspec": {
   "display_name": "base",
   "language": "python",
   "name": "python3"
  },
  "language_info": {
   "codemirror_mode": {
    "name": "ipython",
    "version": 3
   },
   "file_extension": ".py",
   "mimetype": "text/x-python",
   "name": "python",
   "nbconvert_exporter": "python",
   "pygments_lexer": "ipython3",
   "version": "3.13.5"
  }
 },
 "nbformat": 4,
 "nbformat_minor": 5
}
